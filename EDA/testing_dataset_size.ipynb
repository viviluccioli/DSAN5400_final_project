{
 "cells": [
  {
   "cell_type": "code",
   "execution_count": 18,
   "metadata": {},
   "outputs": [],
   "source": [
    "import os\n",
    "import re\n",
    "import pandas as pd"
   ]
  },
  {
   "cell_type": "markdown",
   "metadata": {},
   "source": [
    "Number of rows in the FOX news datasets per year: "
   ]
  },
  {
   "cell_type": "code",
   "execution_count": null,
   "metadata": {},
   "outputs": [
    {
     "name": "stdout",
     "output_type": "stream",
     "text": [
      "    year   rows\n",
      "2   2015  11000\n",
      "0   2016  12000\n",
      "1   2017  12000\n",
      "9   2018  12000\n",
      "8   2019  12000\n",
      "5   2020  12000\n",
      "6   2021  12000\n",
      "4   2022  12000\n",
      "3   2023  12000\n",
      "10  2024  12000\n",
      "7   2025   3079\n"
     ]
    }
   ],
   "source": [
    "\n",
    "folder = \"data/fox\"\n",
    "\n",
    "results = []\n",
    "\n",
    "for filename in os.listdir(folder):\n",
    "    if filename.endswith(\".csv\"):\n",
    "        # extract year\n",
    "        match = re.search(r'(\\d{4})\\.csv$', filename)\n",
    "        if match:\n",
    "            year = match.group(1)\n",
    "            file_path = os.path.join(folder, filename)\n",
    "            df = pd.read_csv(file_path)\n",
    "            # count number of rows in the df\n",
    "            row_count = len(df)\n",
    "            results.append({'year': int(year), 'rows': row_count})\n",
    "\n",
    "# put results in a dataframe \n",
    "results_df = pd.DataFrame(results).sort_values(by='year')\n",
    "\n",
    "print(results_df)\n"
   ]
  }
 ],
 "metadata": {
  "kernelspec": {
   "display_name": "dsan5400",
   "language": "python",
   "name": "python3"
  },
  "language_info": {
   "codemirror_mode": {
    "name": "ipython",
    "version": 3
   },
   "file_extension": ".py",
   "mimetype": "text/x-python",
   "name": "python",
   "nbconvert_exporter": "python",
   "pygments_lexer": "ipython3",
   "version": "3.12.8"
  }
 },
 "nbformat": 4,
 "nbformat_minor": 2
}
